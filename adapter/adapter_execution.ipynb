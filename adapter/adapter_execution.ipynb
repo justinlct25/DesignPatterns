{
 "cells": [
  {
   "cell_type": "markdown",
   "metadata": {},
   "source": [
    "- adapter: \n",
    "    - a special object that converts the interface of one object to another object that the client expects or can understand it\n",
    "    - an adapter wraps one of the objects to hide the complexity of conversion\n",
    "- example:\n",
    "    - polygon and rectangle\n",
    "    - bird and duck"
   ]
  },
  {
   "cell_type": "code",
   "execution_count": 1,
   "metadata": {},
   "outputs": [],
   "source": [
    "from adapter_class import TriangleCA, RectangleCA\n",
    "from adapter_object import TriangleOA, RectangleOA"
   ]
  },
  {
   "cell_type": "code",
   "execution_count": 2,
   "metadata": {},
   "outputs": [
    {
     "data": {
      "text/plain": [
       "173.20508075688772"
      ]
     },
     "execution_count": 2,
     "metadata": {},
     "output_type": "execute_result"
    }
   ],
   "source": [
    "t1 = TriangleCA(20,20,20)\n",
    "t1.is_equilateral()\n",
    "t1.is_isosceles()\n",
    "t1.area()"
   ]
  },
  {
   "cell_type": "code",
   "execution_count": 3,
   "metadata": {},
   "outputs": [
    {
     "data": {
      "text/plain": [
       "173.20508075688772"
      ]
     },
     "execution_count": 3,
     "metadata": {},
     "output_type": "execute_result"
    }
   ],
   "source": [
    "t2 = TriangleOA(20,20,20)\n",
    "t2.is_equilateral()\n",
    "t2.is_isosceles()\n",
    "t2.area()\n"
   ]
  },
  {
   "cell_type": "code",
   "execution_count": 4,
   "metadata": {},
   "outputs": [
    {
     "data": {
      "text/plain": [
       "600"
      ]
     },
     "execution_count": 4,
     "metadata": {},
     "output_type": "execute_result"
    }
   ],
   "source": [
    "r1 = RectangleCA(20,30,20,30)\n",
    "r1.is_square()\n",
    "r1.area()"
   ]
  },
  {
   "cell_type": "code",
   "execution_count": 5,
   "metadata": {},
   "outputs": [
    {
     "data": {
      "text/plain": [
       "600"
      ]
     },
     "execution_count": 5,
     "metadata": {},
     "output_type": "execute_result"
    }
   ],
   "source": [
    "r2 = RectangleOA(20,30,20,30)\n",
    "r2.is_square()\n",
    "r2.area()"
   ]
  },
  {
   "cell_type": "markdown",
   "metadata": {},
   "source": [
    "- comparison:\n",
    "    - class adapter (inheritance):\n",
    "        - subclass dependent on the parent class\n",
    "        - makes a system more complex, less testable and\n",
    "    - object adaptor (composition):\n",
    "        - promote decoupling by defining the interfaces clearly\n",
    "        - obliged to be used when multiple inheritance is not available (eg.Java)"
   ]
  },
  {
   "cell_type": "markdown",
   "metadata": {},
   "source": [
    "- reuse of functionality\n",
    "    - class inheritance (white-box reuse):\n",
    "        - easiest way to reuse code\n",
    "        - relationship between the base and derived class is statically fixed\n",
    "        - derived classes can use parts (designer not intended) of the base class \n",
    "        - increases coupling:\n",
    "            - any changes in the base class impact all derived classes\n",
    "        - breaks encapsulation:\n",
    "            - based classes often define part of their subclasses' physical representation\n",
    "    - class composition (black-box reuse): \n",
    "        - implementation of the component object kept secret\n",
    "        - not avoid knowing how the class work, but the details is irrelevant\n",
    "        - uses other class function/ability through interface only\n",
    "        - multiple inheritance (eg. Java cannot)"
   ]
  },
  {
   "cell_type": "markdown",
   "metadata": {},
   "source": [
    "Loose coupling:\n",
    "components are weakly associated with each other\n",
    "changes in one component least affect existence or performance of another component\n"
   ]
  },
  {
   "cell_type": "markdown",
   "metadata": {},
   "source": []
  },
  {
   "cell_type": "code",
   "execution_count": 6,
   "metadata": {},
   "outputs": [
    {
     "name": "stdout",
     "output_type": "stream",
     "text": [
      "[('apples', 2), ('grapes', 40)]\n",
      "<class 'tuple'>\n"
     ]
    }
   ],
   "source": [
    "fruits=[('apples',2),('grapes',40)]\n",
    "print(fruits)\n",
    "print(type(fruits[0]))"
   ]
  }
 ],
 "metadata": {
  "interpreter": {
   "hash": "a98dc994d4ed71ab31cd5afde3f7cd7a3301783bb708363ccd61192ec52bfe36"
  },
  "kernelspec": {
   "display_name": "Python 3.9.5 64-bit ('codeguys_27sep21': venv)",
   "name": "python3"
  },
  "language_info": {
   "codemirror_mode": {
    "name": "ipython",
    "version": 3
   },
   "file_extension": ".py",
   "mimetype": "text/x-python",
   "name": "python",
   "nbconvert_exporter": "python",
   "pygments_lexer": "ipython3",
   "version": "3.9.5"
  },
  "orig_nbformat": 4
 },
 "nbformat": 4,
 "nbformat_minor": 2
}
