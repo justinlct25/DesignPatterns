{
 "cells": [
  {
   "cell_type": "code",
   "execution_count": null,
   "metadata": {},
   "outputs": [],
   "source": [
    "from factory import *"
   ]
  },
  {
   "cell_type": "code",
   "execution_count": null,
   "metadata": {},
   "outputs": [],
   "source": [
    "accountant1 = Accountant('Hema1',39,'F')\n",
    "print(accountant1)\n",
    "print(accountant1.get_role())\n",
    "\n",
    "admin1 = Admin('Alfred')\n",
    "print(admin1)\n",
    "print(admin1.get_role())"
   ]
  },
  {
   "cell_type": "markdown",
   "metadata": {},
   "source": [
    "------Factory------"
   ]
  },
  {
   "cell_type": "code",
   "execution_count": null,
   "metadata": {},
   "outputs": [],
   "source": [
    "employeeFactory = EmployeeFactory()\n",
    "\n",
    "accountant2 = employeeFactory.create('accountant','Hema2',39,'F')\n",
    "print(accountant2)\n",
    "print(accountant2.get_role())\n",
    "\n",
    "admin = employeeFactory.create('Admin','Supritha2',32,'F')\n",
    "print(admin)\n",
    "print(admin.get_role())"
   ]
  }
 ],
 "metadata": {
  "language_info": {
   "name": "python"
  },
  "orig_nbformat": 4
 },
 "nbformat": 4,
 "nbformat_minor": 2
}
