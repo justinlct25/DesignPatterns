{
 "cells": [
  {
   "cell_type": "code",
   "execution_count": 1,
   "metadata": {},
   "outputs": [],
   "source": [
    "from method_types import *"
   ]
  },
  {
   "cell_type": "markdown",
   "metadata": {},
   "source": [
    "Static Method:\n",
    "can be called without instantiating the class\n",
    "self-contained, thus cannot access any other attribute or call any other method within that class"
   ]
  },
  {
   "cell_type": "code",
   "execution_count": null,
   "metadata": {},
   "outputs": [],
   "source": [
    "MethodTypes.staticMethod()"
   ]
  },
  {
   "cell_type": "markdown",
   "metadata": {},
   "source": [
    "Class Method:\n",
    "can also be called without having an instance of the class\n",
    "has capability to access other methods and class attributes but no instance attributes"
   ]
  },
  {
   "cell_type": "code",
   "execution_count": null,
   "metadata": {},
   "outputs": [],
   "source": [
    "MethodTypes.classMethod()"
   ]
  },
  {
   "cell_type": "markdown",
   "metadata": {},
   "source": [
    "Instance Method:\n",
    "can access all attributes of that class through the reserved word self\n",
    "can only be called if the class has been instantiated\n",
    "can create, get and set new instance attributes \n",
    "can call other instance, class and static methods"
   ]
  },
  {
   "cell_type": "code",
   "execution_count": null,
   "metadata": {},
   "outputs": [],
   "source": [
    "m = MethodTypes()\n",
    "m.instanceMethod()"
   ]
  },
  {
   "cell_type": "markdown",
   "metadata": {},
   "source": [
    "self: reserved word used in an instance method\n",
    "cls: reserved word used in class method\n",
    "static method is self-contained, thus no reserved word is used"
   ]
  }
 ],
 "metadata": {
  "interpreter": {
   "hash": "a98dc994d4ed71ab31cd5afde3f7cd7a3301783bb708363ccd61192ec52bfe36"
  },
  "kernelspec": {
   "display_name": "Python 3.9.5 64-bit ('codeguys_27sep21': venv)",
   "name": "python3"
  },
  "language_info": {
   "codemirror_mode": {
    "name": "ipython",
    "version": 3
   },
   "file_extension": ".py",
   "mimetype": "text/x-python",
   "name": "python",
   "nbconvert_exporter": "python",
   "pygments_lexer": "ipython3",
   "version": "3.9.5"
  },
  "orig_nbformat": 4
 },
 "nbformat": 4,
 "nbformat_minor": 2
}
