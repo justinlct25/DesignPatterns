{
 "cells": [
  {
   "cell_type": "markdown",
   "metadata": {},
   "source": [
    "- analogy:\n",
    "    - API & database\n",
    "    - personal money's (object / database) proxies:\n",
    "        - credit card\n",
    "        - FPS\n",
    "        - optopus"
   ]
  },
  {
   "cell_type": "markdown",
   "metadata": {},
   "source": [
    "- Proxy server: \n",
    "    - machine that translates traffic between networks or protocols\n",
    "    - intermediary server separating end-user clients from the destinations that they browse\n",
    "    - usage eg. \n",
    "        - control / monitor internet usage (employees and children)\n",
    "        - caching for better performance (eg. copy for same website requests)\n",
    "        - privacy & security (change IP, couple with VPN)\n",
    "    - forward proxies:  \n",
    "        - between the client and external network\n",
    "        - takes action before relaying request to the external resource\n",
    "    - reverse proxies:\n",
    "        - between network and multiple internal resources\n",
    "            - eg. large website with dozens of servers serving requests collectively\n",
    "        - act as a load balancer"
   ]
  },
  {
   "cell_type": "markdown",
   "metadata": {},
   "source": [
    "- Proxy pattern: replacement for another object / wraps another object to do operations while accessing to it.\n",
    "<br/><br/>\n",
    "    - counting proxy: <br> - monitor access to a resource\n",
    "    <br/><br/>\n",
    "    - protection proxy: <br> - protect a resource / object from direct access \n",
    "    <br/><br/>\n",
    "    - virtual proxy: <br> - provide some default and instant results instead of heavy resource consuming data in the database (take some time to produce results)\n",
    "    <br> - once the real object is done, proxies push the actual data to the client (provided dummy data earlier)\n",
    "    <br/><br/>\n",
    "    - caching proxy: <br> - optimize access to results from costly computation/operation ->computation not performed every time\n",
    "    <br/><br/>\n",
    "    - remote proxy: <br> - a virtual resource closer to the client, which represents the object located remotely (server). <br> - Talking to the remote real object might involve marshalling and unmarshalling of data \n",
    "    <br/><br/>\n",
    "    - network proxy: <br> - control access to a resource\n",
    "<br/><br/>\n",
    "- Proxy always implements the interface of the object it is proxying to (target)\n",
    "- Can be achieved either via inheritance / composition\n",
    "- composition in Python can be more powerful by overriding the __getattr__ method"
   ]
  },
  {
   "cell_type": "code",
   "execution_count": 2,
   "metadata": {},
   "outputs": [],
   "source": [
    "from proxy import *"
   ]
  },
  {
   "cell_type": "code",
   "execution_count": 11,
   "metadata": {},
   "outputs": [],
   "source": [
    "factory = EmployeeProxyFactory()"
   ]
  },
  {
   "cell_type": "code",
   "execution_count": 12,
   "metadata": {},
   "outputs": [
    {
     "name": "stdout",
     "output_type": "stream",
     "text": [
      "delete\n",
      "Engineer - Jack, 25 years old M\n"
     ]
    }
   ],
   "source": [
    "engineer = factory.create('engineer', 'Jack', 25, 'M')\n",
    "print(engineer)"
   ]
  },
  {
   "cell_type": "code",
   "execution_count": 9,
   "metadata": {},
   "outputs": [
    {
     "name": "stdout",
     "output_type": "stream",
     "text": [
      "Admin - Louie, 25 years old M\n"
     ]
    }
   ],
   "source": [
    "admin = factory.create('admin', 'Louie', 25, 'M')\n",
    "print(admin)"
   ]
  },
  {
   "cell_type": "code",
   "execution_count": 13,
   "metadata": {},
   "outputs": [
    {
     "data": {
      "text/plain": [
       "2"
      ]
     },
     "execution_count": 13,
     "metadata": {},
     "output_type": "execute_result"
    }
   ],
   "source": [
    "EmployeeProxy.get_count()"
   ]
  },
  {
   "cell_type": "code",
   "execution_count": null,
   "metadata": {},
   "outputs": [],
   "source": [
    "# __getattr__\n",
    "print(admin.name)\n",
    "print(engineer.name)"
   ]
  },
  {
   "cell_type": "code",
   "execution_count": 107,
   "metadata": {},
   "outputs": [],
   "source": [
    "del engineer"
   ]
  },
  {
   "cell_type": "code",
   "execution_count": 106,
   "metadata": {},
   "outputs": [],
   "source": [
    "del admin"
   ]
  },
  {
   "cell_type": "code",
   "execution_count": 97,
   "metadata": {},
   "outputs": [
    {
     "ename": "NameError",
     "evalue": "name 'admin' is not defined",
     "output_type": "error",
     "traceback": [
      "\u001b[0;31m---------------------------------------------------------------------------\u001b[0m",
      "\u001b[0;31mNameError\u001b[0m                                 Traceback (most recent call last)",
      "\u001b[0;32m/var/folders/96/qy7tryp14bz4lmlwb10ngms80000gn/T/ipykernel_84350/287449904.py\u001b[0m in \u001b[0;36m<module>\u001b[0;34m\u001b[0m\n\u001b[1;32m      1\u001b[0m \u001b[0;31m# __getattr__\u001b[0m\u001b[0;34m\u001b[0m\u001b[0;34m\u001b[0m\u001b[0;34m\u001b[0m\u001b[0m\n\u001b[0;32m----> 2\u001b[0;31m \u001b[0mprint\u001b[0m\u001b[0;34m(\u001b[0m\u001b[0madmin\u001b[0m\u001b[0;34m.\u001b[0m\u001b[0mname\u001b[0m\u001b[0;34m)\u001b[0m\u001b[0;34m\u001b[0m\u001b[0;34m\u001b[0m\u001b[0m\n\u001b[0m\u001b[1;32m      3\u001b[0m \u001b[0mprint\u001b[0m\u001b[0;34m(\u001b[0m\u001b[0mengineer\u001b[0m\u001b[0;34m.\u001b[0m\u001b[0mname\u001b[0m\u001b[0;34m)\u001b[0m\u001b[0;34m\u001b[0m\u001b[0;34m\u001b[0m\u001b[0m\n",
      "\u001b[0;31mNameError\u001b[0m: name 'admin' is not defined"
     ]
    }
   ],
   "source": [
    "# __getattr__\n",
    "print(admin.name)\n",
    "print(engineer.name)"
   ]
  },
  {
   "cell_type": "code",
   "execution_count": 6,
   "metadata": {},
   "outputs": [
    {
     "name": "stdout",
     "output_type": "stream",
     "text": [
      "Proxy in action. Checking to see if the balance of student is clear or not ...\n",
      "Your fee balance is greater than 500, first pay the fee\n"
     ]
    }
   ],
   "source": [
    "collegeProxy = CollegeProxy()\n",
    "# collegeProxy.feeBalance = 1000\n",
    "collegeProxy.studyingInCollege()"
   ]
  },
  {
   "cell_type": "code",
   "execution_count": 5,
   "metadata": {},
   "outputs": [
    {
     "name": "stdout",
     "output_type": "stream",
     "text": [
      "Proxy in action. Checking to see if the balance of student is clear or not ...\n",
      "Studying In College...\n"
     ]
    }
   ],
   "source": [
    "collegeProxy.feeBalance = 100\n",
    "collegeProxy.studyingInCollege()"
   ]
  },
  {
   "cell_type": "markdown",
   "metadata": {},
   "source": [
    "- *args: non-keyword arguments\n",
    "- **kwargs: keyword arguments"
   ]
  }
 ],
 "metadata": {
  "interpreter": {
   "hash": "aec114dd067af65ba9eb1c79e6a9ae57ff7c673ea57a21eee55ca6c021dd5198"
  },
  "kernelspec": {
   "display_name": "Python 3.9.5 64-bit ('codeguys_27sep21': venv)",
   "name": "python3"
  },
  "language_info": {
   "codemirror_mode": {
    "name": "ipython",
    "version": 3
   },
   "file_extension": ".py",
   "mimetype": "text/x-python",
   "name": "python",
   "nbconvert_exporter": "python",
   "pygments_lexer": "ipython3",
   "version": "3.9.5"
  },
  "orig_nbformat": 4
 },
 "nbformat": 4,
 "nbformat_minor": 2
}
