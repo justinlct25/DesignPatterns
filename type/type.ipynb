{
 "cells": [
  {
   "cell_type": "markdown",
   "metadata": {},
   "source": [
    "An Object: variable assignation, copying, adding attributes, being passed as parameter"
   ]
  },
  {
   "cell_type": "code",
   "execution_count": null,
   "metadata": {},
   "outputs": [],
   "source": [
    "\n",
    "class ObjectGuy(object):\n",
    "    pass\n",
    "print('----normal usage of type----')\n",
    "print(type(1))\n",
    "print(type(\"1\"))\n",
    "print(type(ObjectGuy))\n",
    "print(type(ObjectGuy()))"
   ]
  },
  {
   "cell_type": "code",
   "execution_count": null,
   "metadata": {},
   "outputs": [],
   "source": [
    "print('----type as the metaclass of all types----')\n",
    "age = 35\n",
    "print(age)\n",
    "print(age.__class__)\n",
    "print(age.__class__.__class__)\n",
    "\n",
    "cls = \"cls\"\n",
    "print(cls)\n",
    "print(cls.__class__)\n",
    "print(cls.__class__.__class__)"
   ]
  },
  {
   "cell_type": "markdown",
   "metadata": {},
   "source": [
    "type is the built-in metaclass Python uses"
   ]
  },
  {
   "cell_type": "code",
   "execution_count": 19,
   "metadata": {},
   "outputs": [
    {
     "name": "stdout",
     "output_type": "stream",
     "text": [
      "True\n"
     ]
    }
   ],
   "source": [
    "class Foo(object):\n",
    "        bar = True\n",
    "\n",
    "def echo_bar(self):\n",
    "        print(self.bar)\n",
    "\n",
    "class FooChild(Foo):\n",
    "    def echo_bar(self):\n",
    "      print(self.bar)\n",
    "\n",
    "# FooChild = type('FooChild',(Foo,),{'echo_bar': echo_bar})\n",
    "\n",
    "fooChild = FooChild()\n",
    "fooChild.echo_bar()\n",
    "    "
   ]
  },
  {
   "cell_type": "markdown",
   "metadata": {},
   "source": [
    "classes are constructed using type by default\n",
    "the base metaclass handles native OS memory allocation \n",
    "(ie. pointers for methods implementing the dunder methods)"
   ]
  }
 ],
 "metadata": {
  "interpreter": {
   "hash": "a98dc994d4ed71ab31cd5afde3f7cd7a3301783bb708363ccd61192ec52bfe36"
  },
  "kernelspec": {
   "display_name": "Python 3.9.5 64-bit ('codeguys_27sep21': venv)",
   "name": "python3"
  },
  "language_info": {
   "codemirror_mode": {
    "name": "ipython",
    "version": 3
   },
   "file_extension": ".py",
   "mimetype": "text/x-python",
   "name": "python",
   "nbconvert_exporter": "python",
   "pygments_lexer": "ipython3",
   "version": "3.9.5"
  },
  "orig_nbformat": 4
 },
 "nbformat": 4,
 "nbformat_minor": 2
}
